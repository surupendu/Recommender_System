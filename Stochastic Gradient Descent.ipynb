{
 "cells": [
  {
   "cell_type": "code",
   "execution_count": 1,
   "metadata": {
    "collapsed": true
   },
   "outputs": [],
   "source": [
    "import numpy as np"
   ]
  },
  {
   "cell_type": "code",
   "execution_count": 13,
   "metadata": {
    "collapsed": true
   },
   "outputs": [],
   "source": [
    "class MF():\n",
    "    \n",
    "    def __init__(self,R,K,alpha,beta,iterations):\n",
    "        \"\"\"\n",
    "            R (ndarray) : user-item rating matrix\n",
    "            K (int) : Latent factors\n",
    "            alpha (float) : learning rate\n",
    "            beta (float) : regularization parameter\n",
    "        \"\"\"\n",
    "        \n",
    "        self.R = R\n",
    "        self.num_users,self.num_items = R.shape\n",
    "        self.K = K\n",
    "        self.alpha = alpha\n",
    "        self.beta = beta\n",
    "        self.iterations = iterations\n",
    "    \n",
    "    \n",
    "    def train(self):\n",
    "        #Initialize user and item latent vectors\n",
    "        self.P = np.random.normal(scale=1/self.K,size=(self.num_users,self.K))\n",
    "        self.Q = np.random.normal(scale=1/self.K,size=(self.num_items,self.K))\n",
    "        \n",
    "        #Initialize Biases\n",
    "        self.b_u = np.zeros(self.num_users)\n",
    "        self.b_i = np.zeros(self.num_items)\n",
    "        self.b = np.mean(self.R[np.where(R!=0)])\n",
    "        \n",
    "        #Create Training sample which is a sparse matrix\n",
    "        self.samples = [(i,j,self.R[i,j])\n",
    "                   for i in range(self.num_users)\n",
    "                   for j in range(self.num_items)\n",
    "                   if self.R[i,j]>0\n",
    "                  ]\n",
    "        \n",
    "        #Perform Stochastic Gradient Descent\n",
    "        training_process = []\n",
    "        for i in range(self.iterations):\n",
    "            np.random.shuffle(self.samples)\n",
    "            self.sgd()\n",
    "            mse = self.mse()\n",
    "            training_process.append((i,mse))\n",
    "            if (i+1)%10 == 0:\n",
    "                print('Iteration:%d ; error:%0.4f' %(i+1,mse))\n",
    "            \n",
    "        return training_process\n",
    "                    \n",
    "    \n",
    "    def mse(self):\n",
    "        \"\"\"\n",
    "        Function to calculate Mean Square Error\n",
    "        \"\"\"\n",
    "        xs,ys = self.R.nonzero()\n",
    "        predicted = self.full_matrix()\n",
    "        error = 0\n",
    "        for x,y in zip(xs,ys):\n",
    "            error+=pow(self.R[x,y] - predicted[x,y],2)\n",
    "            \n",
    "        return np.sqrt(error)\n",
    "    \n",
    "    def sgd(self):\n",
    "        \"\"\"\n",
    "            Perform Stochastic Gradient Descent\n",
    "        \"\"\"\n",
    "        for i,j,r in self.samples:\n",
    "            #Compute Error and Prediction\n",
    "            prediction = self.get_rating(i,j)\n",
    "            error = (r - prediction)\n",
    "            \n",
    "            #Update Bias\n",
    "            self.b_u[i]+= self.alpha * (error - self.beta * self.b_u[i])\n",
    "            self.b_i[j]+= self.alpha * (error - self.beta * self.b_i[j])\n",
    "            \n",
    "            #Update Latent Matrices P and Q\n",
    "            self.P[i,:]+= self.alpha * (error * self.Q[j,:] - self.beta * self.P[i,:])\n",
    "            self.Q[j,:]+= self.alpha * (error * self.P[i,:] - self.beta * self.Q[j,:])\n",
    "            \n",
    "         \n",
    "     \n",
    "    def get_rating(self,i,j):\n",
    "        \"\"\"\n",
    "            Get predicted rating of user i and item j\n",
    "        \"\"\"\n",
    "        prediction = self.b_u[i] + self.b_i[j] + self.b + self.P[i,:].dot(self.Q[j,:].T)\n",
    "        return prediction\n",
    "    \n",
    "    def full_matrix(self):\n",
    "        \"\"\"Compute the Rating matrix\"\"\"\n",
    "        \n",
    "        return self.b + self.b_u[:,np.newaxis] + self.b_i[np.newaxis:,] + self.P.dot(self.Q.T)"
   ]
  },
  {
   "cell_type": "code",
   "execution_count": 14,
   "metadata": {
    "scrolled": false
   },
   "outputs": [
    {
     "name": "stdout",
     "output_type": "stream",
     "text": [
      "Iteration:10 ; error:0.0780\n",
      "Iteration:20 ; error:0.0372\n"
     ]
    },
    {
     "data": {
      "text/plain": [
       "[(0, 5.6252992146366267),\n",
       " (1, 4.7877092765070008),\n",
       " (2, 3.5299894153313773),\n",
       " (3, 1.8146001652806407),\n",
       " (4, 0.76785277423130571),\n",
       " (5, 0.41304112850601948),\n",
       " (6, 0.24568422002001697),\n",
       " (7, 0.15909113791402676),\n",
       " (8, 0.10955399570012507),\n",
       " (9, 0.077992173866949413),\n",
       " (10, 0.058476405671732463),\n",
       " (11, 0.050908853604228331),\n",
       " (12, 0.042738187798533347),\n",
       " (13, 0.042374080240417986),\n",
       " (14, 0.040674294699036127),\n",
       " (15, 0.03824168637302975),\n",
       " (16, 0.036739605762285195),\n",
       " (17, 0.038264782163726974),\n",
       " (18, 0.038259066823439582),\n",
       " (19, 0.037168019950246031),\n",
       " (20, 0.038063045703234162),\n",
       " (21, 0.036883967924191519),\n",
       " (22, 0.039836159445385246),\n",
       " (23, 0.034460407655242262),\n",
       " (24, 0.032447497334925149)]"
      ]
     },
     "execution_count": 14,
     "metadata": {},
     "output_type": "execute_result"
    }
   ],
   "source": [
    "R = np.array([\n",
    "    [5, 3, 0, 1],\n",
    "    [4, 0, 0, 1],\n",
    "    [1, 1, 0, 5],\n",
    "    [1, 0, 0, 4],\n",
    "    [0, 1, 5, 4],\n",
    "])\n",
    "\n",
    "mf = MF(R,K=2,alpha=0.1,beta=0.01,iterations=25)\n",
    "mf.train()"
   ]
  },
  {
   "cell_type": "code",
   "execution_count": 15,
   "metadata": {},
   "outputs": [
    {
     "data": {
      "text/plain": [
       "array([[ 4.98439652,  3.00438503,  2.91979122,  1.00781268],\n",
       "       [ 3.99930287,  2.45040009,  3.68909348,  1.01210146],\n",
       "       [ 1.00640453,  1.00589212,  4.04657535,  4.98976884],\n",
       "       [ 1.00871459,  0.80704971,  3.69277202,  3.99488641],\n",
       "       [ 0.99670578,  1.01376523,  4.98950309,  4.00005134]])"
      ]
     },
     "execution_count": 15,
     "metadata": {},
     "output_type": "execute_result"
    }
   ],
   "source": [
    "mf.full_matrix()"
   ]
  }
 ],
 "metadata": {
  "kernelspec": {
   "display_name": "Python 3",
   "language": "python",
   "name": "python3"
  },
  "language_info": {
   "codemirror_mode": {
    "name": "ipython",
    "version": 3
   },
   "file_extension": ".py",
   "mimetype": "text/x-python",
   "name": "python",
   "nbconvert_exporter": "python",
   "pygments_lexer": "ipython3",
   "version": "3.6.3"
  }
 },
 "nbformat": 4,
 "nbformat_minor": 2
}
